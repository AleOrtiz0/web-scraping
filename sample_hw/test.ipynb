{
 "cells": [
  {
   "cell_type": "code",
   "execution_count": 14,
   "metadata": {},
   "outputs": [],
   "source": [
    "import os\n",
    "from selenium import webdriver\n",
    "from selenium.webdriver.chrome.options import Options\n",
    "from selenium.webdriver.chrome.service import Service\n",
    "\n",
    "base = os.getcwd()\n",
    "chrome_path = f'{base}/utils/Google Chrome for Testing.app/Contents/MacOS/Google Chrome for Testing'\n",
    "chromedriver_path = f'{base}/utils/chromedriver'\n",
    "\n",
    "chrome_options = Options()\n",
    "chrome_options.binary_location = chrome_path\n",
    "\n",
    "service = Service(executable_path=chromedriver_path)\n",
    "\n",
    "driver = webdriver.Chrome(\n",
    "    service=service,\n",
    "    options=chrome_options\n",
    ")\n",
    "\n",
    "driver.get('https://www.google.com')\n"
   ]
  },
  {
   "cell_type": "code",
   "execution_count": 15,
   "metadata": {},
   "outputs": [],
   "source": [
    "driver.quit()"
   ]
  }
 ],
 "metadata": {
  "kernelspec": {
   "display_name": "Python 3",
   "language": "python",
   "name": "python3"
  },
  "language_info": {
   "codemirror_mode": {
    "name": "ipython",
    "version": 3
   },
   "file_extension": ".py",
   "mimetype": "text/x-python",
   "name": "python",
   "nbconvert_exporter": "python",
   "pygments_lexer": "ipython3",
   "version": "3.9.6"
  }
 },
 "nbformat": 4,
 "nbformat_minor": 2
}
