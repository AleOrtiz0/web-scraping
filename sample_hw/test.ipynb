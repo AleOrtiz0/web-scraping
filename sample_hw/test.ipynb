{
 "cells": [
  {
   "cell_type": "markdown",
   "metadata": {},
   "source": [
    "# For mac"
   ]
  },
  {
   "cell_type": "code",
   "execution_count": null,
   "metadata": {},
   "outputs": [],
   "source": [
    "import os\n",
    "from selenium import webdriver\n",
    "from selenium.webdriver.chrome.options import Options\n",
    "from selenium.webdriver.chrome.service import Service\n",
    "\n",
    "base = os.getcwd()\n",
    "\n",
    "chrome_path = f'{base}/utils/Google Chrome for Testing.app/Contents/MacOS/Google Chrome for Testing'\n",
    "chromedriver_path = f'{base}/utils/chromedriver'\n",
    "\n",
    "chrome_options = Options()\n",
    "chrome_options.binary_location = chrome_path\n",
    "\n",
    "service = Service(executable_path=chromedriver_path)\n",
    "\n",
    "driver = webdriver.Chrome(\n",
    "    service=service,\n",
    "    options=chrome_options\n",
    ")\n",
    "\n",
    "driver.get('https://www.google.com')\n"
   ]
  },
  {
   "cell_type": "markdown",
   "metadata": {},
   "source": [
    "# For windows"
   ]
  },
  {
   "cell_type": "code",
   "execution_count": null,
   "metadata": {},
   "outputs": [],
   "source": [
    "import os\n",
    "from selenium import webdriver\n",
    "from selenium.webdriver.chrome.options import Options\n",
    "from selenium.webdriver.chrome.service import Service\n",
    "\n",
    "\n",
    "base = os.getcwd()\n",
    "base = base.replace(\"\\\\\", \"/\")\n",
    "\n",
    "chrome_path = f'{base}/utils/chrome.exe'\n",
    "chromedriver_path = f'{base}/utils/chromedriver.exe'\n",
    "\n",
    "chrome_options = Options()\n",
    "chrome_options.binary_location = chrome_path\n",
    "\n",
    "service = Service(executable_path=chromedriver_path)\n",
    "\n",
    "driver = webdriver.Chrome(\n",
    "    service=service,\n",
    "    options=chrome_options\n",
    ")\n",
    "\n",
    "driver.get('https://www.google.com')"
   ]
  },
  {
   "cell_type": "markdown",
   "metadata": {},
   "source": [
    "# For linux"
   ]
  },
  {
   "cell_type": "code",
   "execution_count": null,
   "metadata": {},
   "outputs": [],
   "source": []
  },
  {
   "cell_type": "code",
   "execution_count": null,
   "metadata": {},
   "outputs": [],
   "source": [
    "driver.quit()"
   ]
  }
 ],
 "metadata": {
  "kernelspec": {
   "display_name": "Python 3",
   "language": "python",
   "name": "python3"
  },
  "language_info": {
   "codemirror_mode": {
    "name": "ipython",
    "version": 3
   },
   "file_extension": ".py",
   "mimetype": "text/x-python",
   "name": "python",
   "nbconvert_exporter": "python",
   "pygments_lexer": "ipython3",
   "version": "3.9.6"
  }
 },
 "nbformat": 4,
 "nbformat_minor": 2
}
