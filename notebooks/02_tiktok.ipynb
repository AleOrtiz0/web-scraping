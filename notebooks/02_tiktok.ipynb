{
 "cells": [
  {
   "cell_type": "code",
   "execution_count": 26,
   "metadata": {},
   "outputs": [],
   "source": [
    "from selenium import webdriver\n",
    "from selenium.webdriver.common.by import By\n",
    "from selenium.webdriver.common.keys import Keys\n",
    "\n",
    "import time\n",
    "\n",
    "driver = webdriver.Chrome()\n",
    "\n",
    "user = 'chipsbarceloficial'\n",
    "url = f'https://www.tiktok.com/@{user}'\n",
    "\n",
    "driver.get(url)"
   ]
  },
  {
   "cell_type": "markdown",
   "metadata": {},
   "source": [
    "# 0. Login"
   ]
  },
  {
   "cell_type": "code",
   "execution_count": 13,
   "metadata": {},
   "outputs": [],
   "source": [
    "login_btn = driver.find_elements(By.CSS_SELECTOR, 'button[id=\"header-login-button\"]')\n",
    "login_btn[-1].click()"
   ]
  },
  {
   "cell_type": "code",
   "execution_count": 14,
   "metadata": {},
   "outputs": [],
   "source": [
    "options = driver.find_elements(By.CSS_SELECTOR, 'div[data-e2e=\"channel-item\"]')\n",
    "options[-2].click() # with google"
   ]
  },
  {
   "cell_type": "code",
   "execution_count": null,
   "metadata": {},
   "outputs": [],
   "source": [
    "# handle windows \n",
    "all_windows = driver.window_handles\n",
    "driver.switch_to.window(all_windows[-1]) # for google \n",
    "driver.close()"
   ]
  },
  {
   "cell_type": "code",
   "execution_count": 23,
   "metadata": {},
   "outputs": [],
   "source": [
    "# to return main page (tiktok)\n",
    "driver.switch_to.window(all_windows[0])"
   ]
  },
  {
   "cell_type": "code",
   "execution_count": 6,
   "metadata": {},
   "outputs": [],
   "source": [
    "# its more difficult with google --> so \n",
    "options[1].click() # with number"
   ]
  },
  {
   "cell_type": "code",
   "execution_count": null,
   "metadata": {},
   "outputs": [],
   "source": [
    "phone_input = driver.find_element(By.CSS_SELECTOR, 'input[placeholder=\"Phone number\"]')\n",
    "phone_input.send_keys('5580354406')"
   ]
  },
  {
   "cell_type": "code",
   "execution_count": 9,
   "metadata": {},
   "outputs": [],
   "source": [
    "send_code = driver.find_element(By.CSS_SELECTOR, 'button[data-e2e=\"send-code-button\"]')\n",
    "send_code.click()"
   ]
  },
  {
   "cell_type": "markdown",
   "metadata": {},
   "source": [
    "# 1. Captcha frame"
   ]
  },
  {
   "cell_type": "markdown",
   "metadata": {},
   "source": [
    "## Look first for close button"
   ]
  },
  {
   "cell_type": "code",
   "execution_count": 2,
   "metadata": {},
   "outputs": [
    {
     "ename": "ElementClickInterceptedException",
     "evalue": "Message: element click intercepted: Element <div class=\"TUXButton-iconContainer\">...</div> is not clickable at point (764, 157). Other element would receive the click: <div class=\"TUXModal-overlay\" data-transition-status=\"open\" dir=\"ltr\" data-tux-color-scheme=\"dark\" style=\"position: fixed; overflow: auto; inset: 0px; z-index: 111111;\">...</div>\n  (Session info: chrome=131.0.6778.86)\nStacktrace:\n0   chromedriver                        0x0000000100f93ac4 cxxbridge1$str$ptr + 3651580\n1   chromedriver                        0x0000000100f8c314 cxxbridge1$str$ptr + 3620940\n2   chromedriver                        0x00000001009f44b4 cxxbridge1$string$len + 89224\n3   chromedriver                        0x0000000100a3e12c cxxbridge1$string$len + 391424\n4   chromedriver                        0x0000000100a3c77c cxxbridge1$string$len + 384848\n5   chromedriver                        0x0000000100a3a6c0 cxxbridge1$string$len + 376468\n6   chromedriver                        0x0000000100a39af8 cxxbridge1$string$len + 373452\n7   chromedriver                        0x0000000100a2efbc cxxbridge1$string$len + 329616\n8   chromedriver                        0x0000000100a2ea10 cxxbridge1$string$len + 328164\n9   chromedriver                        0x0000000100a720fc cxxbridge1$string$len + 604368\n10  chromedriver                        0x0000000100a2d0b0 cxxbridge1$string$len + 321668\n11  chromedriver                        0x0000000100a2dd00 cxxbridge1$string$len + 324820\n12  chromedriver                        0x0000000100f5ee08 cxxbridge1$str$ptr + 3435328\n13  chromedriver                        0x0000000100f62120 cxxbridge1$str$ptr + 3448408\n14  chromedriver                        0x0000000100f4617c cxxbridge1$str$ptr + 3333812\n15  chromedriver                        0x0000000100f629e0 cxxbridge1$str$ptr + 3450648\n16  chromedriver                        0x0000000100f37988 cxxbridge1$str$ptr + 3274432\n17  chromedriver                        0x0000000100f7d0f4 cxxbridge1$str$ptr + 3558956\n18  chromedriver                        0x0000000100f7d270 cxxbridge1$str$ptr + 3559336\n19  chromedriver                        0x0000000100f8bf88 cxxbridge1$str$ptr + 3620032\n20  libsystem_pthread.dylib             0x000000018c127fa8 _pthread_start + 148\n21  libsystem_pthread.dylib             0x000000018c122da0 thread_start + 8\n",
     "output_type": "error",
     "traceback": [
      "\u001b[0;31m---------------------------------------------------------------------------\u001b[0m",
      "\u001b[0;31mElementClickInterceptedException\u001b[0m          Traceback (most recent call last)",
      "Cell \u001b[0;32mIn[2], line 3\u001b[0m\n\u001b[1;32m      1\u001b[0m \u001b[38;5;66;03m# try with css_selector\u001b[39;00m\n\u001b[1;32m      2\u001b[0m close_btn \u001b[38;5;241m=\u001b[39m driver\u001b[38;5;241m.\u001b[39mfind_element(By\u001b[38;5;241m.\u001b[39mCSS_SELECTOR, \u001b[38;5;124m'\u001b[39m\u001b[38;5;124mdiv[class=\u001b[39m\u001b[38;5;124m\"\u001b[39m\u001b[38;5;124mTUXButton-iconContainer\u001b[39m\u001b[38;5;124m\"\u001b[39m\u001b[38;5;124m]\u001b[39m\u001b[38;5;124m'\u001b[39m)\n\u001b[0;32m----> 3\u001b[0m \u001b[43mclose_btn\u001b[49m\u001b[38;5;241;43m.\u001b[39;49m\u001b[43mclick\u001b[49m\u001b[43m(\u001b[49m\u001b[43m)\u001b[49m\n",
      "File \u001b[0;32m~/Library/Python/3.9/lib/python/site-packages/selenium/webdriver/remote/webelement.py:94\u001b[0m, in \u001b[0;36mWebElement.click\u001b[0;34m(self)\u001b[0m\n\u001b[1;32m     92\u001b[0m \u001b[38;5;28;01mdef\u001b[39;00m \u001b[38;5;21mclick\u001b[39m(\u001b[38;5;28mself\u001b[39m) \u001b[38;5;241m-\u001b[39m\u001b[38;5;241m>\u001b[39m \u001b[38;5;28;01mNone\u001b[39;00m:\n\u001b[1;32m     93\u001b[0m \u001b[38;5;250m    \u001b[39m\u001b[38;5;124;03m\"\"\"Clicks the element.\"\"\"\u001b[39;00m\n\u001b[0;32m---> 94\u001b[0m     \u001b[38;5;28;43mself\u001b[39;49m\u001b[38;5;241;43m.\u001b[39;49m\u001b[43m_execute\u001b[49m\u001b[43m(\u001b[49m\u001b[43mCommand\u001b[49m\u001b[38;5;241;43m.\u001b[39;49m\u001b[43mCLICK_ELEMENT\u001b[49m\u001b[43m)\u001b[49m\n",
      "File \u001b[0;32m~/Library/Python/3.9/lib/python/site-packages/selenium/webdriver/remote/webelement.py:395\u001b[0m, in \u001b[0;36mWebElement._execute\u001b[0;34m(self, command, params)\u001b[0m\n\u001b[1;32m    393\u001b[0m     params \u001b[38;5;241m=\u001b[39m {}\n\u001b[1;32m    394\u001b[0m params[\u001b[38;5;124m\"\u001b[39m\u001b[38;5;124mid\u001b[39m\u001b[38;5;124m\"\u001b[39m] \u001b[38;5;241m=\u001b[39m \u001b[38;5;28mself\u001b[39m\u001b[38;5;241m.\u001b[39m_id\n\u001b[0;32m--> 395\u001b[0m \u001b[38;5;28;01mreturn\u001b[39;00m \u001b[38;5;28;43mself\u001b[39;49m\u001b[38;5;241;43m.\u001b[39;49m\u001b[43m_parent\u001b[49m\u001b[38;5;241;43m.\u001b[39;49m\u001b[43mexecute\u001b[49m\u001b[43m(\u001b[49m\u001b[43mcommand\u001b[49m\u001b[43m,\u001b[49m\u001b[43m \u001b[49m\u001b[43mparams\u001b[49m\u001b[43m)\u001b[49m\n",
      "File \u001b[0;32m~/Library/Python/3.9/lib/python/site-packages/selenium/webdriver/remote/webdriver.py:354\u001b[0m, in \u001b[0;36mWebDriver.execute\u001b[0;34m(self, driver_command, params)\u001b[0m\n\u001b[1;32m    352\u001b[0m response \u001b[38;5;241m=\u001b[39m \u001b[38;5;28mself\u001b[39m\u001b[38;5;241m.\u001b[39mcommand_executor\u001b[38;5;241m.\u001b[39mexecute(driver_command, params)\n\u001b[1;32m    353\u001b[0m \u001b[38;5;28;01mif\u001b[39;00m response:\n\u001b[0;32m--> 354\u001b[0m     \u001b[38;5;28;43mself\u001b[39;49m\u001b[38;5;241;43m.\u001b[39;49m\u001b[43merror_handler\u001b[49m\u001b[38;5;241;43m.\u001b[39;49m\u001b[43mcheck_response\u001b[49m\u001b[43m(\u001b[49m\u001b[43mresponse\u001b[49m\u001b[43m)\u001b[49m\n\u001b[1;32m    355\u001b[0m     response[\u001b[38;5;124m\"\u001b[39m\u001b[38;5;124mvalue\u001b[39m\u001b[38;5;124m\"\u001b[39m] \u001b[38;5;241m=\u001b[39m \u001b[38;5;28mself\u001b[39m\u001b[38;5;241m.\u001b[39m_unwrap_value(response\u001b[38;5;241m.\u001b[39mget(\u001b[38;5;124m\"\u001b[39m\u001b[38;5;124mvalue\u001b[39m\u001b[38;5;124m\"\u001b[39m, \u001b[38;5;28;01mNone\u001b[39;00m))\n\u001b[1;32m    356\u001b[0m     \u001b[38;5;28;01mreturn\u001b[39;00m response\n",
      "File \u001b[0;32m~/Library/Python/3.9/lib/python/site-packages/selenium/webdriver/remote/errorhandler.py:229\u001b[0m, in \u001b[0;36mErrorHandler.check_response\u001b[0;34m(self, response)\u001b[0m\n\u001b[1;32m    227\u001b[0m         alert_text \u001b[38;5;241m=\u001b[39m value[\u001b[38;5;124m\"\u001b[39m\u001b[38;5;124malert\u001b[39m\u001b[38;5;124m\"\u001b[39m]\u001b[38;5;241m.\u001b[39mget(\u001b[38;5;124m\"\u001b[39m\u001b[38;5;124mtext\u001b[39m\u001b[38;5;124m\"\u001b[39m)\n\u001b[1;32m    228\u001b[0m     \u001b[38;5;28;01mraise\u001b[39;00m exception_class(message, screen, stacktrace, alert_text)  \u001b[38;5;66;03m# type: ignore[call-arg]  # mypy is not smart enough here\u001b[39;00m\n\u001b[0;32m--> 229\u001b[0m \u001b[38;5;28;01mraise\u001b[39;00m exception_class(message, screen, stacktrace)\n",
      "\u001b[0;31mElementClickInterceptedException\u001b[0m: Message: element click intercepted: Element <div class=\"TUXButton-iconContainer\">...</div> is not clickable at point (764, 157). Other element would receive the click: <div class=\"TUXModal-overlay\" data-transition-status=\"open\" dir=\"ltr\" data-tux-color-scheme=\"dark\" style=\"position: fixed; overflow: auto; inset: 0px; z-index: 111111;\">...</div>\n  (Session info: chrome=131.0.6778.86)\nStacktrace:\n0   chromedriver                        0x0000000100f93ac4 cxxbridge1$str$ptr + 3651580\n1   chromedriver                        0x0000000100f8c314 cxxbridge1$str$ptr + 3620940\n2   chromedriver                        0x00000001009f44b4 cxxbridge1$string$len + 89224\n3   chromedriver                        0x0000000100a3e12c cxxbridge1$string$len + 391424\n4   chromedriver                        0x0000000100a3c77c cxxbridge1$string$len + 384848\n5   chromedriver                        0x0000000100a3a6c0 cxxbridge1$string$len + 376468\n6   chromedriver                        0x0000000100a39af8 cxxbridge1$string$len + 373452\n7   chromedriver                        0x0000000100a2efbc cxxbridge1$string$len + 329616\n8   chromedriver                        0x0000000100a2ea10 cxxbridge1$string$len + 328164\n9   chromedriver                        0x0000000100a720fc cxxbridge1$string$len + 604368\n10  chromedriver                        0x0000000100a2d0b0 cxxbridge1$string$len + 321668\n11  chromedriver                        0x0000000100a2dd00 cxxbridge1$string$len + 324820\n12  chromedriver                        0x0000000100f5ee08 cxxbridge1$str$ptr + 3435328\n13  chromedriver                        0x0000000100f62120 cxxbridge1$str$ptr + 3448408\n14  chromedriver                        0x0000000100f4617c cxxbridge1$str$ptr + 3333812\n15  chromedriver                        0x0000000100f629e0 cxxbridge1$str$ptr + 3450648\n16  chromedriver                        0x0000000100f37988 cxxbridge1$str$ptr + 3274432\n17  chromedriver                        0x0000000100f7d0f4 cxxbridge1$str$ptr + 3558956\n18  chromedriver                        0x0000000100f7d270 cxxbridge1$str$ptr + 3559336\n19  chromedriver                        0x0000000100f8bf88 cxxbridge1$str$ptr + 3620032\n20  libsystem_pthread.dylib             0x000000018c127fa8 _pthread_start + 148\n21  libsystem_pthread.dylib             0x000000018c122da0 thread_start + 8\n"
     ]
    }
   ],
   "source": [
    "# try with css_selector\n",
    "close_btn = driver.find_element(By.CSS_SELECTOR, 'div[class=\"TUXButton-iconContainer\"]')\n",
    "close_btn.click()"
   ]
  },
  {
   "cell_type": "code",
   "execution_count": 3,
   "metadata": {},
   "outputs": [
    {
     "ename": "ElementClickInterceptedException",
     "evalue": "Message: element click intercepted: Element <svg xmlns=\"http://www.w3.org/2000/svg\" width=\"118\" height=\"42\" fill=\"currentColor\" alt=\"TikTok\">...</svg> is not clickable at point (75, 30). Other element would receive the click: <div class=\"TUXModal-overlay\" data-transition-status=\"open\" dir=\"ltr\" data-tux-color-scheme=\"dark\" style=\"position: fixed; overflow: auto; inset: 0px; z-index: 111111;\">...</div>\n  (Session info: chrome=131.0.6778.86)\nStacktrace:\n0   chromedriver                        0x0000000100f93ac4 cxxbridge1$str$ptr + 3651580\n1   chromedriver                        0x0000000100f8c314 cxxbridge1$str$ptr + 3620940\n2   chromedriver                        0x00000001009f44b4 cxxbridge1$string$len + 89224\n3   chromedriver                        0x0000000100a3e12c cxxbridge1$string$len + 391424\n4   chromedriver                        0x0000000100a3c77c cxxbridge1$string$len + 384848\n5   chromedriver                        0x0000000100a3a6c0 cxxbridge1$string$len + 376468\n6   chromedriver                        0x0000000100a39af8 cxxbridge1$string$len + 373452\n7   chromedriver                        0x0000000100a2efbc cxxbridge1$string$len + 329616\n8   chromedriver                        0x0000000100a2ea10 cxxbridge1$string$len + 328164\n9   chromedriver                        0x0000000100a720fc cxxbridge1$string$len + 604368\n10  chromedriver                        0x0000000100a2d0b0 cxxbridge1$string$len + 321668\n11  chromedriver                        0x0000000100a2dd00 cxxbridge1$string$len + 324820\n12  chromedriver                        0x0000000100f5ee08 cxxbridge1$str$ptr + 3435328\n13  chromedriver                        0x0000000100f62120 cxxbridge1$str$ptr + 3448408\n14  chromedriver                        0x0000000100f4617c cxxbridge1$str$ptr + 3333812\n15  chromedriver                        0x0000000100f629e0 cxxbridge1$str$ptr + 3450648\n16  chromedriver                        0x0000000100f37988 cxxbridge1$str$ptr + 3274432\n17  chromedriver                        0x0000000100f7d0f4 cxxbridge1$str$ptr + 3558956\n18  chromedriver                        0x0000000100f7d270 cxxbridge1$str$ptr + 3559336\n19  chromedriver                        0x0000000100f8bf88 cxxbridge1$str$ptr + 3620032\n20  libsystem_pthread.dylib             0x000000018c127fa8 _pthread_start + 148\n21  libsystem_pthread.dylib             0x000000018c122da0 thread_start + 8\n",
     "output_type": "error",
     "traceback": [
      "\u001b[0;31m---------------------------------------------------------------------------\u001b[0m",
      "\u001b[0;31mElementClickInterceptedException\u001b[0m          Traceback (most recent call last)",
      "Cell \u001b[0;32mIn[3], line 2\u001b[0m\n\u001b[1;32m      1\u001b[0m \u001b[38;5;66;03m# go deeper --> to much elements with same css selector\u001b[39;00m\n\u001b[0;32m----> 2\u001b[0m \u001b[43mdriver\u001b[49m\u001b[38;5;241;43m.\u001b[39;49m\u001b[43mfind_element\u001b[49m\u001b[43m(\u001b[49m\u001b[43mBy\u001b[49m\u001b[38;5;241;43m.\u001b[39;49m\u001b[43mCSS_SELECTOR\u001b[49m\u001b[43m,\u001b[49m\u001b[43m \u001b[49m\u001b[38;5;124;43m'\u001b[39;49m\u001b[38;5;124;43msvg[fill=\u001b[39;49m\u001b[38;5;124;43m\"\u001b[39;49m\u001b[38;5;124;43mcurrentColor\u001b[39;49m\u001b[38;5;124;43m\"\u001b[39;49m\u001b[38;5;124;43m]\u001b[39;49m\u001b[38;5;124;43m'\u001b[39;49m\u001b[43m)\u001b[49m\u001b[38;5;241;43m.\u001b[39;49m\u001b[43mclick\u001b[49m\u001b[43m(\u001b[49m\u001b[43m)\u001b[49m\n\u001b[1;32m      3\u001b[0m driver\u001b[38;5;241m.\u001b[39mfind_element(By\u001b[38;5;241m.\u001b[39mCSS_SELECTOR, \u001b[38;5;124m'\u001b[39m\u001b[38;5;124msvg[color=\u001b[39m\u001b[38;5;124m\"\u001b[39m\u001b[38;5;124minherit\u001b[39m\u001b[38;5;124m\"\u001b[39m\u001b[38;5;124m]\u001b[39m\u001b[38;5;124m'\u001b[39m)\u001b[38;5;241m.\u001b[39mclick()\n",
      "File \u001b[0;32m~/Library/Python/3.9/lib/python/site-packages/selenium/webdriver/remote/webelement.py:94\u001b[0m, in \u001b[0;36mWebElement.click\u001b[0;34m(self)\u001b[0m\n\u001b[1;32m     92\u001b[0m \u001b[38;5;28;01mdef\u001b[39;00m \u001b[38;5;21mclick\u001b[39m(\u001b[38;5;28mself\u001b[39m) \u001b[38;5;241m-\u001b[39m\u001b[38;5;241m>\u001b[39m \u001b[38;5;28;01mNone\u001b[39;00m:\n\u001b[1;32m     93\u001b[0m \u001b[38;5;250m    \u001b[39m\u001b[38;5;124;03m\"\"\"Clicks the element.\"\"\"\u001b[39;00m\n\u001b[0;32m---> 94\u001b[0m     \u001b[38;5;28;43mself\u001b[39;49m\u001b[38;5;241;43m.\u001b[39;49m\u001b[43m_execute\u001b[49m\u001b[43m(\u001b[49m\u001b[43mCommand\u001b[49m\u001b[38;5;241;43m.\u001b[39;49m\u001b[43mCLICK_ELEMENT\u001b[49m\u001b[43m)\u001b[49m\n",
      "File \u001b[0;32m~/Library/Python/3.9/lib/python/site-packages/selenium/webdriver/remote/webelement.py:395\u001b[0m, in \u001b[0;36mWebElement._execute\u001b[0;34m(self, command, params)\u001b[0m\n\u001b[1;32m    393\u001b[0m     params \u001b[38;5;241m=\u001b[39m {}\n\u001b[1;32m    394\u001b[0m params[\u001b[38;5;124m\"\u001b[39m\u001b[38;5;124mid\u001b[39m\u001b[38;5;124m\"\u001b[39m] \u001b[38;5;241m=\u001b[39m \u001b[38;5;28mself\u001b[39m\u001b[38;5;241m.\u001b[39m_id\n\u001b[0;32m--> 395\u001b[0m \u001b[38;5;28;01mreturn\u001b[39;00m \u001b[38;5;28;43mself\u001b[39;49m\u001b[38;5;241;43m.\u001b[39;49m\u001b[43m_parent\u001b[49m\u001b[38;5;241;43m.\u001b[39;49m\u001b[43mexecute\u001b[49m\u001b[43m(\u001b[49m\u001b[43mcommand\u001b[49m\u001b[43m,\u001b[49m\u001b[43m \u001b[49m\u001b[43mparams\u001b[49m\u001b[43m)\u001b[49m\n",
      "File \u001b[0;32m~/Library/Python/3.9/lib/python/site-packages/selenium/webdriver/remote/webdriver.py:354\u001b[0m, in \u001b[0;36mWebDriver.execute\u001b[0;34m(self, driver_command, params)\u001b[0m\n\u001b[1;32m    352\u001b[0m response \u001b[38;5;241m=\u001b[39m \u001b[38;5;28mself\u001b[39m\u001b[38;5;241m.\u001b[39mcommand_executor\u001b[38;5;241m.\u001b[39mexecute(driver_command, params)\n\u001b[1;32m    353\u001b[0m \u001b[38;5;28;01mif\u001b[39;00m response:\n\u001b[0;32m--> 354\u001b[0m     \u001b[38;5;28;43mself\u001b[39;49m\u001b[38;5;241;43m.\u001b[39;49m\u001b[43merror_handler\u001b[49m\u001b[38;5;241;43m.\u001b[39;49m\u001b[43mcheck_response\u001b[49m\u001b[43m(\u001b[49m\u001b[43mresponse\u001b[49m\u001b[43m)\u001b[49m\n\u001b[1;32m    355\u001b[0m     response[\u001b[38;5;124m\"\u001b[39m\u001b[38;5;124mvalue\u001b[39m\u001b[38;5;124m\"\u001b[39m] \u001b[38;5;241m=\u001b[39m \u001b[38;5;28mself\u001b[39m\u001b[38;5;241m.\u001b[39m_unwrap_value(response\u001b[38;5;241m.\u001b[39mget(\u001b[38;5;124m\"\u001b[39m\u001b[38;5;124mvalue\u001b[39m\u001b[38;5;124m\"\u001b[39m, \u001b[38;5;28;01mNone\u001b[39;00m))\n\u001b[1;32m    356\u001b[0m     \u001b[38;5;28;01mreturn\u001b[39;00m response\n",
      "File \u001b[0;32m~/Library/Python/3.9/lib/python/site-packages/selenium/webdriver/remote/errorhandler.py:229\u001b[0m, in \u001b[0;36mErrorHandler.check_response\u001b[0;34m(self, response)\u001b[0m\n\u001b[1;32m    227\u001b[0m         alert_text \u001b[38;5;241m=\u001b[39m value[\u001b[38;5;124m\"\u001b[39m\u001b[38;5;124malert\u001b[39m\u001b[38;5;124m\"\u001b[39m]\u001b[38;5;241m.\u001b[39mget(\u001b[38;5;124m\"\u001b[39m\u001b[38;5;124mtext\u001b[39m\u001b[38;5;124m\"\u001b[39m)\n\u001b[1;32m    228\u001b[0m     \u001b[38;5;28;01mraise\u001b[39;00m exception_class(message, screen, stacktrace, alert_text)  \u001b[38;5;66;03m# type: ignore[call-arg]  # mypy is not smart enough here\u001b[39;00m\n\u001b[0;32m--> 229\u001b[0m \u001b[38;5;28;01mraise\u001b[39;00m exception_class(message, screen, stacktrace)\n",
      "\u001b[0;31mElementClickInterceptedException\u001b[0m: Message: element click intercepted: Element <svg xmlns=\"http://www.w3.org/2000/svg\" width=\"118\" height=\"42\" fill=\"currentColor\" alt=\"TikTok\">...</svg> is not clickable at point (75, 30). Other element would receive the click: <div class=\"TUXModal-overlay\" data-transition-status=\"open\" dir=\"ltr\" data-tux-color-scheme=\"dark\" style=\"position: fixed; overflow: auto; inset: 0px; z-index: 111111;\">...</div>\n  (Session info: chrome=131.0.6778.86)\nStacktrace:\n0   chromedriver                        0x0000000100f93ac4 cxxbridge1$str$ptr + 3651580\n1   chromedriver                        0x0000000100f8c314 cxxbridge1$str$ptr + 3620940\n2   chromedriver                        0x00000001009f44b4 cxxbridge1$string$len + 89224\n3   chromedriver                        0x0000000100a3e12c cxxbridge1$string$len + 391424\n4   chromedriver                        0x0000000100a3c77c cxxbridge1$string$len + 384848\n5   chromedriver                        0x0000000100a3a6c0 cxxbridge1$string$len + 376468\n6   chromedriver                        0x0000000100a39af8 cxxbridge1$string$len + 373452\n7   chromedriver                        0x0000000100a2efbc cxxbridge1$string$len + 329616\n8   chromedriver                        0x0000000100a2ea10 cxxbridge1$string$len + 328164\n9   chromedriver                        0x0000000100a720fc cxxbridge1$string$len + 604368\n10  chromedriver                        0x0000000100a2d0b0 cxxbridge1$string$len + 321668\n11  chromedriver                        0x0000000100a2dd00 cxxbridge1$string$len + 324820\n12  chromedriver                        0x0000000100f5ee08 cxxbridge1$str$ptr + 3435328\n13  chromedriver                        0x0000000100f62120 cxxbridge1$str$ptr + 3448408\n14  chromedriver                        0x0000000100f4617c cxxbridge1$str$ptr + 3333812\n15  chromedriver                        0x0000000100f629e0 cxxbridge1$str$ptr + 3450648\n16  chromedriver                        0x0000000100f37988 cxxbridge1$str$ptr + 3274432\n17  chromedriver                        0x0000000100f7d0f4 cxxbridge1$str$ptr + 3558956\n18  chromedriver                        0x0000000100f7d270 cxxbridge1$str$ptr + 3559336\n19  chromedriver                        0x0000000100f8bf88 cxxbridge1$str$ptr + 3620032\n20  libsystem_pthread.dylib             0x000000018c127fa8 _pthread_start + 148\n21  libsystem_pthread.dylib             0x000000018c122da0 thread_start + 8\n"
     ]
    }
   ],
   "source": [
    "# go deeper --> to much elements with same css selector\n",
    "driver.find_element(By.CSS_SELECTOR, 'svg[fill=\"currentColor\"]').click()\n",
    "driver.find_element(By.CSS_SELECTOR, 'svg[color=\"inherit\"]').click()"
   ]
  },
  {
   "cell_type": "code",
   "execution_count": 4,
   "metadata": {},
   "outputs": [],
   "source": [
    "# try with XPATH \n",
    "driver.find_element(By.XPATH, '//*[@id=\":r2:\"]/div/div[1]/div/button/div/div').click()\n",
    "\n",
    "# works but not the best solution --> pages tend to change"
   ]
  },
  {
   "cell_type": "code",
   "execution_count": 5,
   "metadata": {},
   "outputs": [
    {
     "name": "stdout",
     "output_type": "stream",
     "text": [
      "Drag the slider to fit the puzzle\n",
      "Audio\n"
     ]
    }
   ],
   "source": [
    "# try with 2 searchs \n",
    "frame = driver.find_element(By.CSS_SELECTOR, 'div[class=\"TUXModal captcha-verify-container\"]')\n",
    "print(frame.text) # to test if element is found\n",
    "\n",
    "close_btn = frame.find_element(By.CSS_SELECTOR, 'button[class=\"TUXButton TUXButton--borderless TUXButton--xsmall TUXButton--secondary\"]').click()"
   ]
  },
  {
   "cell_type": "markdown",
   "metadata": {},
   "source": [
    "## Videos dont load, why?"
   ]
  },
  {
   "cell_type": "code",
   "execution_count": 6,
   "metadata": {},
   "outputs": [],
   "source": [
    "# cause we dont solve captcha we cant go further\n",
    "\n",
    "driver.refresh() # look the captcha is again there"
   ]
  },
  {
   "cell_type": "code",
   "execution_count": 7,
   "metadata": {},
   "outputs": [
    {
     "name": "stdout",
     "output_type": "stream",
     "text": [
      "Solving captcha.\n",
      "Looking for a captcha...\n",
      "Failed to solve the captcha (The hCaptcha appeared.)\n",
      "Found captcha. Starting attempt #0.\n",
      "Moving the slider...\n",
      "Looking for a captcha...\n",
      "The captcha was succesfully solved.\n"
     ]
    }
   ],
   "source": [
    "from utils.CircularCaptchaSolver import CircularCaptchaSolver\n",
    "\n",
    "CircularCaptchaSolver(driver).solve_captcha(checkpoint_url=driver.current_url)\n"
   ]
  },
  {
   "cell_type": "code",
   "execution_count": null,
   "metadata": {},
   "outputs": [],
   "source": [
    "from utils.SliderCaptchaSolver import SliderCaptchaSolver\n",
    "\n",
    "SliderCaptchaSolver(driver).solve_captcha()"
   ]
  },
  {
   "cell_type": "code",
   "execution_count": null,
   "metadata": {},
   "outputs": [],
   "source": [
    "# but the task is not to solve captcha\n",
    "# just do it manually"
   ]
  },
  {
   "cell_type": "markdown",
   "metadata": {},
   "source": [
    "# 2. Page extraction from a user"
   ]
  },
  {
   "cell_type": "markdown",
   "metadata": {},
   "source": [
    "## Scroll page"
   ]
  },
  {
   "cell_type": "code",
   "execution_count": 8,
   "metadata": {},
   "outputs": [],
   "source": [
    "body = driver.find_element(By.TAG_NAME, 'body')\n",
    "height = body.size['height']\n",
    "\n",
    "while True:\n",
    "    body.send_keys(Keys.END)\n",
    "    time.sleep(4) # varia de acuerdo con la velocidad del wifi\n",
    "\n",
    "    new_height = body.size['height']\n",
    "    if new_height == height:\n",
    "        break\n",
    "\n",
    "    height = new_height\n"
   ]
  },
  {
   "cell_type": "markdown",
   "metadata": {},
   "source": [
    "## Basic data"
   ]
  },
  {
   "cell_type": "code",
   "execution_count": 9,
   "metadata": {},
   "outputs": [
    {
     "name": "stdout",
     "output_type": "stream",
     "text": [
      "El nombre de este usuario es --> Chip’s Barcel Oficial\n",
      "Este usuario sigue a --> 7 cuentas\n",
      "Este usuario tiene --> 135.6K seguidores\n"
     ]
    }
   ],
   "source": [
    "name = driver.find_element(By.CSS_SELECTOR, 'h2[data-e2e=\"user-subtitle\"]')\n",
    "print(f'El nombre de este usuario es --> {name.text}')\n",
    "\n",
    "following = driver.find_element(By.CSS_SELECTOR, 'strong[data-e2e=\"following-count\"]')\n",
    "print(f'Este usuario sigue a --> {following.text} cuentas')\n",
    "\n",
    "followers = driver.find_element(By.CSS_SELECTOR, 'strong[data-e2e=\"followers-count\"]')\n",
    "print(f'Este usuario tiene --> {followers.text} seguidores')\n"
   ]
  },
  {
   "cell_type": "markdown",
   "metadata": {},
   "source": [
    "## Videos data"
   ]
  },
  {
   "cell_type": "code",
   "execution_count": 10,
   "metadata": {},
   "outputs": [
    {
     "name": "stdout",
     "output_type": "stream",
     "text": [
      "El link es --> https://www.tiktok.com/@chipsbarceloficial/video/7441779257002528055\n",
      "El link de la imagen es --> https://p16-sign-va.tiktokcdn.com/tos-maliva-p-0068/oQ0E7SFRoQD8QvJALAHQfjE1nNQeRZ2BJhaoBB~tplv-photomode-zoomcover:720:720.avif?lk3s=81f88b70&x-expires=1733277600&x-signature=2JngMrUD6EgsWgieXgBm97C2EhA%3D&shp=81f88b70&shcp=- 1x, https://p16-sign-va.tiktokcdn.com/tos-maliva-p-0068/oQ0E7SFRoQD8QvJALAHQfjE1nNQeRZ2BJhaoBB~tplv-photomode-zoomcover:720:720.avif?lk3s=81f88b70&x-expires=1733277600&x-signature=2JngMrUD6EgsWgieXgBm97C2EhA%3D&shp=81f88b70&shcp=- 2x\n",
      "Description --> Chip’s®️ Toque Maestro®️ para una cenita tranqui con amigos, un plan. 🙏🏻🥰 #ChipsBarcel #ChipsToqueMaestro®️ created by Chip’s Barcel Oficial with Chip’s Barcel Oficial’s sonido original\n",
      "Tiene --> 1072 vistas\n"
     ]
    }
   ],
   "source": [
    "videos_elements = driver.find_elements(By.CSS_SELECTOR, 'div[class=\"css-1uqux2o-DivItemContainerV2 e19c29qe17\"]')\n",
    "\n",
    "test_video = videos_elements[0]\n",
    "\n",
    "link_element = driver.find_element(By.CSS_SELECTOR, 'a[class=\"css-1g95xhm-AVideoContainer e19c29qe13\"]')\n",
    "link = link_element.get_attribute('href')\n",
    "print(f'El link es --> {link}')\n",
    "\n",
    "image_element = driver.find_element(By.CSS_SELECTOR, 'source[type=\"image/avif\"]')\n",
    "image_url = image_element.get_attribute('srcset')\n",
    "print(f'El link de la imagen es --> {image_url}')\n",
    "\n",
    "description_element = driver.find_element(By.CSS_SELECTOR, 'img[fetchpriority=\"auto\"]')\n",
    "description = description_element.get_attribute('alt')\n",
    "print(f'Description --> {description}')\n",
    "\n",
    "views = driver.find_element(By.CSS_SELECTOR,'strong[data-e2e=\"video-views\"]')\n",
    "print(f'Tiene --> {views.text} vistas')\n"
   ]
  },
  {
   "cell_type": "markdown",
   "metadata": {},
   "source": [
    "# 3. Interaction as a user"
   ]
  },
  {
   "cell_type": "markdown",
   "metadata": {},
   "source": [
    "# videos"
   ]
  },
  {
   "cell_type": "code",
   "execution_count": 11,
   "metadata": {},
   "outputs": [],
   "source": [
    "driver.get('https://www.tiktok.com/')"
   ]
  },
  {
   "cell_type": "code",
   "execution_count": 14,
   "metadata": {},
   "outputs": [],
   "source": [
    "videos_elements = driver.find_elements(By.CSS_SELECTOR, 'div[class=\"css-1uqux2o-DivItemContainerV2 e19c29qe17\"]')\n",
    "videos_elements[0].click()"
   ]
  },
  {
   "cell_type": "code",
   "execution_count": 23,
   "metadata": {},
   "outputs": [],
   "source": [
    "next_video = driver.find_elements(By.CSS_SELECTOR, 'button[class=\"TUXButton TUXButton--capsule TUXButton--medium TUXButton--secondary action-item undefined css-187m5hz-StyledActionItemButton e8npak41\"]')\n",
    "next_video[-1].click()"
   ]
  },
  {
   "cell_type": "code",
   "execution_count": 24,
   "metadata": {},
   "outputs": [],
   "source": [
    "like = driver.find_element(By.CSS_SELECTOR, 'span[data-e2e=\"like-icon\"]')\n",
    "like.click()"
   ]
  },
  {
   "cell_type": "code",
   "execution_count": 25,
   "metadata": {},
   "outputs": [],
   "source": [
    "follow_user = driver.find_element(By.CSS_SELECTOR, 'button[data-e2e=\"feed-follow\"]')\n",
    "follow_user.click()"
   ]
  },
  {
   "cell_type": "markdown",
   "metadata": {},
   "source": [
    "# 4. Continue as guest"
   ]
  },
  {
   "cell_type": "code",
   "execution_count": 22,
   "metadata": {},
   "outputs": [],
   "source": [
    "continue_as_guest = driver.find_elements(By.CSS_SELECTOR, 'div[class=\"css-1cp64nz-DivTextContainer e1cgu1qo3\"]')[-1]\n",
    "continue_as_guest.click()"
   ]
  },
  {
   "cell_type": "code",
   "execution_count": 29,
   "metadata": {},
   "outputs": [],
   "source": [
    "# \n",
    "a = driver.find_element(By.XPATH, '//*[@id=\":r0:0\"]/div/div/div/main/div[2]/div[1]/div/div/div/div[4]/div/div/div/div/div/div/div[2]/div/div/div/div[10]/div/div/div/p/span')\n",
    "driver.get(a.text)"
   ]
  },
  {
   "cell_type": "code",
   "execution_count": null,
   "metadata": {},
   "outputs": [],
   "source": []
  }
 ],
 "metadata": {
  "kernelspec": {
   "display_name": "Python 3",
   "language": "python",
   "name": "python3"
  },
  "language_info": {
   "codemirror_mode": {
    "name": "ipython",
    "version": 3
   },
   "file_extension": ".py",
   "mimetype": "text/x-python",
   "name": "python",
   "nbconvert_exporter": "python",
   "pygments_lexer": "ipython3",
   "version": "3.12.3"
  }
 },
 "nbformat": 4,
 "nbformat_minor": 2
}
