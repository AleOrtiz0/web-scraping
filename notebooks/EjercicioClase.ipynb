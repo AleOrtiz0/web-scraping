{
 "cells": [
  {
   "cell_type": "markdown",
   "metadata": {},
   "source": [
    "## Ejercicio de Web Scraping con Python\n",
    "\n",
    "En este ejercicio, vamos a realizar un web scraping sencillo pero desafiante de un sitio web de ejemplo que tiene tablas de información sobre libros.\n",
    "\n",
    "### Objetivo:\n",
    "Obtener información de los libros más valorados desde una tabla que está disponible en una página web y guardarla en un archivo CSV para su análisis.\n",
    "\n",
    "### Instrucciones:\n",
    "\n",
    "1. **Sitio web de ejemplo:** Utilicen la siguiente URL: `http://books.toscrape.com/catalogue/category/books_1/index.html`.\n",
    "   \n",
    "2. **Información a extraer:** Cada libro tiene información relevante que queremos capturar:\n",
    "   - Título del libro\n",
    "   - Precio\n",
    "   - Calificación (rating) del libro\n",
    "\n",
    "3. **Pasos sugeridos:**\n",
    "   - Abran el sitio web en un navegador para familiarizarse con su estructura.\n",
    "   - Usen la librería `requests` para hacer una solicitud GET a la URL.\n",
    "   - Usen `BeautifulSoup` para analizar el HTML del sitio.\n",
    "   - Encuentren el bloque HTML que contiene la información de cada libro.\n",
    "   - Extraigan la información solicitada (título, precio, calificación).\n",
    "   - Guarden la información en un archivo CSV llamado `books.csv`.\n",
    "\n",
    "4. **Requisitos adicionales:**\n",
    "   - Usen selectores CSS para identificar los elementos que contienen el título, precio y calificación.\n",
    "   - Asegúrense de que los precios estén formateados como números (sin el signo de moneda).\n",
    "\n",
    "5. **Extra (opcional):**\n",
    "   - Si terminan rápido, hagan que su script recorra varias páginas del sitio para obtener más libros. Cada página tiene un enlace \"next\" en la parte inferior para navegar.\n",
    "\n",
    "### Notas:\n",
    "- Utilicen el archivo `notebook.ipynb` ya creado en su Docker para resolver el ejercicio.\n",
    "- Intenten explicar su razonamiento al escribir el código, comentando los pasos más importantes.\n",
    "\n",
    "### Consejos:\n",
    "- Recuerden revisar el HTML del sitio para ver cómo están organizados los elementos. Esto les ayudará a entender cómo seleccionar la información correcta.\n",
    "- Prueben su código en partes, asegurándose de que cada paso funcione antes de continuar.\n",
    "\n",
    "Este ejercicio les permitirá poner en práctica la extracción de datos utilizando librerías de scraping y la manipulación de datos básicos con Python. ¡Manos a la obra!\n",
    "\n"
   ]
  }
 ],
 "metadata": {
  "language_info": {
   "name": "python"
  }
 },
 "nbformat": 4,
 "nbformat_minor": 2
}
